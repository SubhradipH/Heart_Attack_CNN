{
 "cells": [
  {
   "cell_type": "code",
   "execution_count": null,
   "id": "d1d89a80",
   "metadata": {},
   "outputs": [],
   "source": [
    "from PIL import Image, ImageEnhance, ImageOps\n",
    "import os, zipfile\n",
    "from IPython.display import display, FileLink\n",
    "import matplotlib.pyplot as plt\n",
    "\n",
    "\n",
    "input_path = \"give the input file path on it\" #change korbi\n",
    "\n",
    "\n",
    "output_dir = \"name of the folder where all your augmented images will be saved\" # change korbi\n",
    "os.makedirs(output_dir, exist_ok=True)"
   ]
  },
  {
   "cell_type": "code",
   "execution_count": null,
   "id": "6495164a",
   "metadata": {},
   "outputs": [],
   "source": [
    "img = Image.open(input_path).convert(\"RGB\")   # convert to RGB to avoid mode surprises\n",
    "print(\"Original image size:\", img.size, \"mode:\", img.mode)\n",
    "display(img) "
   ]
  },
  {
   "cell_type": "code",
   "execution_count": null,
   "id": "bba18e4b",
   "metadata": {},
   "outputs": [],
   "source": [
    "augmented = {\n",
    "    \"rotated_90\": img.rotate(90, expand=True),\n",
    "    \"flipped_horizontal\": ImageOps.mirror(img),\n",
    "    \"brightness_x1_5\": ImageEnhance.Brightness(img).enhance(1.5),\n",
    "    \"contrast_x1_5\": ImageEnhance.Contrast(img).enhance(1.5)\n",
    "}\n",
    "\n",
    "saved_files = []\n",
    "for name, aug_img in augmented.items():\n",
    "    filename = f\"{name}.jpg\"\n",
    "    path = os.path.join(output_dir, filename)\n",
    "    \n",
    "    aug_img.save(path, format=\"JPEG\", quality=95)\n",
    "    saved_files.append(path)\n",
    "\n",
    "print(\"Saved augmented files:\")\n",
    "for p in saved_files:\n",
    "    print(\" -\", p)"
   ]
  },
  {
   "cell_type": "code",
   "execution_count": null,
   "id": "ebea97fc",
   "metadata": {},
   "outputs": [],
   "source": [
    "all_images = [(\"original\", img)] + list(augmented.items())\n",
    "\n",
    "cols = len(all_images)\n",
    "plt.figure(figsize=(4*cols, 4))\n",
    "for i, (title, im) in enumerate(all_images, start=1):\n",
    "    plt.subplot(1, cols, i)\n",
    "    plt.imshow(im)\n",
    "    plt.title(title)\n",
    "    plt.axis(\"off\")\n",
    "plt.tight_layout()\n",
    "plt.show()"
   ]
  },
  {
   "cell_type": "code",
   "execution_count": null,
   "id": "e8f9f57c",
   "metadata": {},
   "outputs": [],
   "source": [
    "zip_path = \"augmented_images.zip\"\n",
    "with zipfile.ZipFile(zip_path, \"w\") as zf:\n",
    "    for file in saved_files:\n",
    "        zf.write(file, os.path.basename(file))\n",
    "\n",
    "print(\"Created zip:\", zip_path)\n",
    "# akhne file ta zip hobe , atai final output 1ta image thake 4te ,folder output folder ta desktop a save korbi easy hobay to send.\n",
    "display(FileLink(zip_path))"
   ]
  }
 ],
 "metadata": {
  "language_info": {
   "name": "python"
  }
 },
 "nbformat": 4,
 "nbformat_minor": 5
}
